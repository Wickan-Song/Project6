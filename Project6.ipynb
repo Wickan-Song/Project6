{
 "cells": [
  {
   "cell_type": "code",
   "execution_count": 90,
   "id": "009a1676-c721-4984-bab0-8ae910872e5c",
   "metadata": {},
   "outputs": [],
   "source": [
    "import torch\n",
    "import torch.nn as nn\n",
    "import torch.optim as optim\n",
    "import torchvision\n",
    "import torchvision.transforms as transforms\n",
    "from torch.utils.data import DataLoader, Subset\n",
    "import torchvision.datasets as datasets\n",
    "import matplotlib.pyplot as plt\n",
    "from torch.nn import functional as F\n",
    "import os"
   ]
  },
  {
   "cell_type": "code",
   "execution_count": 91,
   "id": "9e11fb45-fae6-48ab-9e3a-0031c5787bb1",
   "metadata": {},
   "outputs": [],
   "source": [
    "os.environ['KMP_DUPLICATE_LIB_OK'] = 'True'"
   ]
  },
  {
   "cell_type": "code",
   "execution_count": 92,
   "id": "eb6bf7b9-9224-43d6-af08-bb92d9bc545b",
   "metadata": {},
   "outputs": [],
   "source": [
    "transform = transforms.Compose([\n",
    "    transforms.RandomHorizontalFlip(),\n",
    "    transforms.RandomCrop(32, padding=4),\n",
    "    transforms.ToTensor(),\n",
    "    transforms.Normalize((0.5, 0.5, 0.5), (0.5, 0.5, 0.5))\n",
    "])"
   ]
  },
  {
   "cell_type": "code",
   "execution_count": 93,
   "id": "62a994cb-ae5f-4998-8005-87ff3a212f7e",
   "metadata": {},
   "outputs": [],
   "source": [
    "transform_test = transforms.Compose([\n",
    "    transforms.ToTensor(),\n",
    "    transforms.Normalize((0.5, 0.5, 0.5), (0.5, 0.5, 0.5))\n",
    "])\n"
   ]
  },
  {
   "cell_type": "code",
   "execution_count": 94,
   "id": "a023235f-a165-4eda-86fa-1a081fdfc9bf",
   "metadata": {},
   "outputs": [],
   "source": [
    "full_train_sets = torchvision.datasets.CIFAR10(root='cifar_10', train=True, download=True, transform=transform)\n",
    "full_test_sets = torchvision.datasets.CIFAR10(root='cifar_10', train=False, download=True, transform=transform)"
   ]
  },
  {
   "cell_type": "code",
   "execution_count": 95,
   "id": "07037f82-221c-490f-9e14-c805b01d67c5",
   "metadata": {},
   "outputs": [],
   "source": [
    "train_indices = list(range(10000))\n",
    "test_indices = list(range(2000))\n",
    "train_sets = Subset(full_train_sets, train_indices)\n",
    "test_sets = Subset(full_test_sets, test_indices)\n"
   ]
  },
  {
   "cell_type": "code",
   "execution_count": 96,
   "id": "c40afc42-4a40-4bce-b320-5ea69cea7c7c",
   "metadata": {},
   "outputs": [],
   "source": [
    "train_loader = DataLoader(train_sets, batch_size = 128, shuffle=True)\n",
    "test_loader = DataLoader(test_sets, batch_size = 128, shuffle= True)"
   ]
  },
  {
   "cell_type": "code",
   "execution_count": 97,
   "id": "ae952edc-c5ce-4142-b2b7-c1984a240c21",
   "metadata": {},
   "outputs": [],
   "source": [
    "class Residual(nn.Module):\n",
    "    def __init__(self, input_channels, num_channels, use_1x1conv=False, strides=1):\n",
    "        super().__init__()\n",
    "        self.conv1 = nn.Conv2d(input_channels, num_channels,\n",
    "                              kernel_size=3, padding=1, stride=strides)\n",
    "        self.conv2 = nn.Conv2d(num_channels, num_channels,\n",
    "                              kernel_size=3, padding=1)\n",
    "        if use_1x1conv:\n",
    "            self.conv3 = nn.Conv2d(input_channels, num_channels,\n",
    "                                 kernel_size=1, stride=strides)\n",
    "        else:\n",
    "            self.conv3 = None\n",
    "        self.bn1 = nn.BatchNorm2d(num_channels)\n",
    "        self.bn2 = nn.BatchNorm2d(num_channels)\n",
    "\n",
    "    def forward(self, X):\n",
    "        Y = F.relu(self.bn1(self.conv1(X)))\n",
    "        Y = self.bn2(self.conv2(Y))\n",
    "        if self.conv3:\n",
    "            X = self.conv3(X)\n",
    "        Y += X\n",
    "        return F.relu(Y)"
   ]
  },
  {
   "cell_type": "code",
   "execution_count": 98,
   "id": "eff464ec-772a-4356-8025-d0ecd4d1625d",
   "metadata": {},
   "outputs": [],
   "source": [
    "#ResNet\n",
    "class ResNet(nn.Module):\n",
    "    def __init__(self):\n",
    "        super(ResNet, self).__init__()\n",
    "        self.conv1 = nn.Conv2d(3, 64, kernel_size=3, stride=1, padding=1)\n",
    "        self.bn1 = nn.BatchNorm2d(64)\n",
    "        self.layer1 = nn.Sequential(Residual(64, 64), Residual(64, 64))\n",
    "        self.layer2 = nn.Sequential(Residual(64, 128, use_1x1conv=True, strides=2), Residual(128, 128))\n",
    "        self.layer3 = nn.Sequential(Residual(128, 256, use_1x1conv=True, strides=2), Residual(256, 256))\n",
    "        self.avgpool = nn.AdaptiveAvgPool2d((1, 1))\n",
    "        self.dropout = nn.Dropout(0.5)\n",
    "        self.fc = nn.Linear(256, 10)\n",
    "\n",
    "    def forward(self, X):\n",
    "        X = F.relu(self.bn1(self.conv1(X)))\n",
    "        X = self.layer1(X)\n",
    "        X = self.layer2(X)\n",
    "        X = self.layer3(X)\n",
    "        X = self.avgpool(X)\n",
    "        X = torch.flatten(X, 1)\n",
    "        X = self.dropout(X)\n",
    "        return self.fc(X)"
   ]
  },
  {
   "cell_type": "code",
   "execution_count": 104,
   "id": "ffca97a6-a623-4ff1-bd96-a45bccaefedb",
   "metadata": {},
   "outputs": [],
   "source": [
    "device = torch.device(\"cuda\" if torch.cuda.is_available() else \"cpu\")\n",
    "model = ResNet().to(device)\n",
    "criterion = nn.CrossEntropyLoss()\n",
    "optimizer = optim.AdamW(model.parameters(), lr=0.001, weight_decay=1e-4)\n",
    "scheduler = optim.lr_scheduler.StepLR(optimizer, step_size=5, gamma=0.5)"
   ]
  },
  {
   "cell_type": "code",
   "execution_count": 105,
   "id": "bbe406ff-525b-45c1-9f14-985cda4650d5",
   "metadata": {},
   "outputs": [],
   "source": [
    "train_loss_records = []\n",
    "test_loss_records = []"
   ]
  },
  {
   "cell_type": "code",
   "execution_count": 106,
   "id": "6863f72c-c232-4623-9ca4-54a9d6d6d305",
   "metadata": {},
   "outputs": [],
   "source": [
    "#train\n",
    "def train_test(epochs=50):\n",
    "    for epoch in range(epochs):\n",
    "        model.train()\n",
    "        train_loss = 0.0\n",
    "        for inputs, labels in train_loader:\n",
    "            inputs, labels = inputs.to(device), labels.to(device)\n",
    "            optimizer.zero_grad()\n",
    "            outputs = model(inputs)\n",
    "            loss = criterion(outputs, labels)\n",
    "            loss.backward()\n",
    "            optimizer.step()\n",
    "            train_loss += loss.item()\n",
    "        \n",
    "        # 计算平均训练损失\n",
    "        avg_train_loss = train_loss / len(train_loader)\n",
    "        train_loss_records.append(avg_train_loss)\n",
    "        \n",
    "        # 测试\n",
    "        if (epoch + 1) % 5 == 0:\n",
    "            model.eval()\n",
    "            test_loss = 0.0\n",
    "            correct = total = 0\n",
    "            with torch.no_grad():\n",
    "                for inputs, labels in test_loader:\n",
    "                    inputs, labels = inputs.to(device), labels.to(device)\n",
    "                    outputs = model(inputs)\n",
    "                    test_loss += criterion(outputs, labels).item()\n",
    "                    predicted = outputs.argmax(1)\n",
    "                    total += labels.size(0)\n",
    "                    correct += (predicted == labels).sum().item()\n",
    "            avg_test_loss = test_loss / len(test_loader)\n",
    "            test_loss_records.extend([avg_test_loss] * 5)  # 补齐长度\n",
    "            print(f'Epoch {epoch+1}, Train Loss: {avg_train_loss:.3f}, '\n",
    "                  f'Test Loss: {avg_test_loss:.3f}, Accuracy: {100 * correct/total:.2f}%')"
   ]
  },
  {
   "cell_type": "code",
   "execution_count": 107,
   "id": "a2e16cb5-c8cd-437b-9753-9533289c884e",
   "metadata": {},
   "outputs": [
    {
     "name": "stdout",
     "output_type": "stream",
     "text": [
      "Epoch 5, Train Loss: 1.143, Test Loss: 1.211, Accuracy: 56.05%\n",
      "Epoch 10, Train Loss: 0.854, Test Loss: 0.847, Accuracy: 69.60%\n",
      "Epoch 15, Train Loss: 0.623, Test Loss: 0.860, Accuracy: 70.05%\n",
      "Epoch 20, Train Loss: 0.466, Test Loss: 0.799, Accuracy: 72.65%\n",
      "Epoch 25, Train Loss: 0.370, Test Loss: 0.698, Accuracy: 76.80%\n",
      "Epoch 30, Train Loss: 0.264, Test Loss: 0.746, Accuracy: 78.45%\n",
      "Epoch 35, Train Loss: 0.164, Test Loss: 0.846, Accuracy: 76.85%\n",
      "Epoch 40, Train Loss: 0.211, Test Loss: 0.718, Accuracy: 78.60%\n",
      "Epoch 45, Train Loss: 0.104, Test Loss: 0.717, Accuracy: 81.20%\n",
      "Epoch 50, Train Loss: 0.098, Test Loss: 0.691, Accuracy: 82.30%\n"
     ]
    }
   ],
   "source": [
    "train_test()"
   ]
  },
  {
   "cell_type": "code",
   "execution_count": 108,
   "id": "ae0fb178-c0a5-46dd-afc9-d6d93f86a8c4",
   "metadata": {},
   "outputs": [
    {
     "data": {
      "image/png": "[encoded data removed]",
      "text/plain": [
       "<Figure size 800x400 with 1 Axes>"
      ]
     },
     "metadata": {},
     "output_type": "display_data"
    }
   ],
   "source": [
    "plt.figure(figsize=(8, 4))\n",
    "plt.plot(train_loss_records, label=\"train loss\")\n",
    "plt.plot(test_loss_records, label=\"test loss\")\n",
    "plt.title(\"ResNet Model Loss Curve\")\n",
    "plt.xlabel(\"Epoch\")\n",
    "plt.ylabel(\"Loss\")\n",
    "plt.legend()\n",
    "plt.grid()\n",
    "plt.show()"
   ]
  },
  {
   "cell_type": "code",
   "execution_count": null,
   "id": "91babe0d-9800-485b-9865-e265f1af568f",
   "metadata": {},
   "outputs": [],
   "source": []
  }
 ],
 "metadata": {
  "kernelspec": {
   "display_name": "Python 3 (ipykernel)",
   "language": "python",
   "name": "python3"
  },
  "language_info": {
   "codemirror_mode": {
    "name": "ipython",
    "version": 3
   },
   "file_extension": ".py",
   "mimetype": "text/x-python",
   "name": "python",
   "nbconvert_exporter": "python",
   "pygments_lexer": "ipython3",
   "version": "3.12.7"
  }
 },
 "nbformat": 4,
 "nbformat_minor": 5
}
